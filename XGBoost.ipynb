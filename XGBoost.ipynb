{
 "cells": [
  {
   "cell_type": "code",
   "execution_count": 1,
   "id": "2c5eba20-26ce-41df-a3bc-9b7112564590",
   "metadata": {
    "colab": {
     "base_uri": "https://localhost:8080/"
    },
    "id": "2c5eba20-26ce-41df-a3bc-9b7112564590",
    "outputId": "438e2831-50c7-47de-af75-d945863c8d3f"
   },
   "outputs": [
    {
     "name": "stdout",
     "output_type": "stream",
     "text": [
      "\u001b[33mWARNING: You are using pip version 22.0.4; however, version 24.0 is available.\r\n",
      "You should consider upgrading via the '/Library/Frameworks/Python.framework/Versions/3.9/bin/python3 -m pip install --upgrade pip' command.\u001b[0m\u001b[33m\r\n",
      "\u001b[0m"
     ]
    }
   ],
   "source": [
    "import sys\n",
    "import warnings\n",
    "warnings.filterwarnings('ignore')\n",
    "import glob\n",
    "!{sys.executable} -m pip install numpy pandas matplotlib scikit-learn pyarrow seaborn imblearn xgboost| grep -v 'already satisfied'\n",
    "\n",
    "#\n",
    "\n",
    "import pandas as pd\n",
    "import numpy as np\n",
    "import matplotlib.pyplot as plt\n",
    "\n",
    "pd.set_option('display.max_columns', None)\n",
    "pd.set_option('display.max_rows', None)"
   ]
  },
  {
   "cell_type": "code",
   "execution_count": 2,
   "id": "93fd8c11-117b-4fc4-9362-44e7d8d3061a",
   "metadata": {
    "id": "93fd8c11-117b-4fc4-9362-44e7d8d3061a"
   },
   "outputs": [],
   "source": [
    "df = pd.read_csv(\"data/train.csv\")"
   ]
  },
  {
   "cell_type": "code",
   "execution_count": 3,
   "id": "91e430b4-9cf6-406a-984b-fad5c7268d41",
   "metadata": {
    "colab": {
     "base_uri": "https://localhost:8080/",
     "height": 241
    },
    "id": "91e430b4-9cf6-406a-984b-fad5c7268d41",
    "outputId": "3f709b61-9479-446e-a5a1-2769e4a9835b"
   },
   "outputs": [
    {
     "data": {
      "text/html": [
       "<div>\n",
       "<style scoped>\n",
       "    .dataframe tbody tr th:only-of-type {\n",
       "        vertical-align: middle;\n",
       "    }\n",
       "\n",
       "    .dataframe tbody tr th {\n",
       "        vertical-align: top;\n",
       "    }\n",
       "\n",
       "    .dataframe thead th {\n",
       "        text-align: right;\n",
       "    }\n",
       "</style>\n",
       "<table border=\"1\" class=\"dataframe\">\n",
       "  <thead>\n",
       "    <tr style=\"text-align: right;\">\n",
       "      <th></th>\n",
       "      <th>id</th>\n",
       "      <th>N_Days</th>\n",
       "      <th>Drug</th>\n",
       "      <th>Age</th>\n",
       "      <th>Sex</th>\n",
       "      <th>Ascites</th>\n",
       "      <th>Hepatomegaly</th>\n",
       "      <th>Spiders</th>\n",
       "      <th>Edema</th>\n",
       "      <th>Bilirubin</th>\n",
       "      <th>Cholesterol</th>\n",
       "      <th>Albumin</th>\n",
       "      <th>Copper</th>\n",
       "      <th>Alk_Phos</th>\n",
       "      <th>SGOT</th>\n",
       "      <th>Tryglicerides</th>\n",
       "      <th>Platelets</th>\n",
       "      <th>Prothrombin</th>\n",
       "      <th>Stage</th>\n",
       "      <th>Status</th>\n",
       "    </tr>\n",
       "  </thead>\n",
       "  <tbody>\n",
       "    <tr>\n",
       "      <th>0</th>\n",
       "      <td>0</td>\n",
       "      <td>999</td>\n",
       "      <td>D-penicillamine</td>\n",
       "      <td>21532</td>\n",
       "      <td>M</td>\n",
       "      <td>N</td>\n",
       "      <td>N</td>\n",
       "      <td>N</td>\n",
       "      <td>N</td>\n",
       "      <td>2.3</td>\n",
       "      <td>316.0</td>\n",
       "      <td>3.35</td>\n",
       "      <td>172.0</td>\n",
       "      <td>1601.0</td>\n",
       "      <td>179.80</td>\n",
       "      <td>63.0</td>\n",
       "      <td>394.0</td>\n",
       "      <td>9.7</td>\n",
       "      <td>3.0</td>\n",
       "      <td>D</td>\n",
       "    </tr>\n",
       "    <tr>\n",
       "      <th>1</th>\n",
       "      <td>1</td>\n",
       "      <td>2574</td>\n",
       "      <td>Placebo</td>\n",
       "      <td>19237</td>\n",
       "      <td>F</td>\n",
       "      <td>N</td>\n",
       "      <td>N</td>\n",
       "      <td>N</td>\n",
       "      <td>N</td>\n",
       "      <td>0.9</td>\n",
       "      <td>364.0</td>\n",
       "      <td>3.54</td>\n",
       "      <td>63.0</td>\n",
       "      <td>1440.0</td>\n",
       "      <td>134.85</td>\n",
       "      <td>88.0</td>\n",
       "      <td>361.0</td>\n",
       "      <td>11.0</td>\n",
       "      <td>3.0</td>\n",
       "      <td>C</td>\n",
       "    </tr>\n",
       "    <tr>\n",
       "      <th>2</th>\n",
       "      <td>2</td>\n",
       "      <td>3428</td>\n",
       "      <td>Placebo</td>\n",
       "      <td>13727</td>\n",
       "      <td>F</td>\n",
       "      <td>N</td>\n",
       "      <td>Y</td>\n",
       "      <td>Y</td>\n",
       "      <td>Y</td>\n",
       "      <td>3.3</td>\n",
       "      <td>299.0</td>\n",
       "      <td>3.55</td>\n",
       "      <td>131.0</td>\n",
       "      <td>1029.0</td>\n",
       "      <td>119.35</td>\n",
       "      <td>50.0</td>\n",
       "      <td>199.0</td>\n",
       "      <td>11.7</td>\n",
       "      <td>4.0</td>\n",
       "      <td>D</td>\n",
       "    </tr>\n",
       "    <tr>\n",
       "      <th>3</th>\n",
       "      <td>3</td>\n",
       "      <td>2576</td>\n",
       "      <td>Placebo</td>\n",
       "      <td>18460</td>\n",
       "      <td>F</td>\n",
       "      <td>N</td>\n",
       "      <td>N</td>\n",
       "      <td>N</td>\n",
       "      <td>N</td>\n",
       "      <td>0.6</td>\n",
       "      <td>256.0</td>\n",
       "      <td>3.50</td>\n",
       "      <td>58.0</td>\n",
       "      <td>1653.0</td>\n",
       "      <td>71.30</td>\n",
       "      <td>96.0</td>\n",
       "      <td>269.0</td>\n",
       "      <td>10.7</td>\n",
       "      <td>3.0</td>\n",
       "      <td>C</td>\n",
       "    </tr>\n",
       "    <tr>\n",
       "      <th>4</th>\n",
       "      <td>4</td>\n",
       "      <td>788</td>\n",
       "      <td>Placebo</td>\n",
       "      <td>16658</td>\n",
       "      <td>F</td>\n",
       "      <td>N</td>\n",
       "      <td>Y</td>\n",
       "      <td>N</td>\n",
       "      <td>N</td>\n",
       "      <td>1.1</td>\n",
       "      <td>346.0</td>\n",
       "      <td>3.65</td>\n",
       "      <td>63.0</td>\n",
       "      <td>1181.0</td>\n",
       "      <td>125.55</td>\n",
       "      <td>96.0</td>\n",
       "      <td>298.0</td>\n",
       "      <td>10.6</td>\n",
       "      <td>4.0</td>\n",
       "      <td>C</td>\n",
       "    </tr>\n",
       "  </tbody>\n",
       "</table>\n",
       "</div>"
      ],
      "text/plain": [
       "   id  N_Days             Drug    Age Sex Ascites Hepatomegaly Spiders Edema  \\\n",
       "0   0     999  D-penicillamine  21532   M       N            N       N     N   \n",
       "1   1    2574          Placebo  19237   F       N            N       N     N   \n",
       "2   2    3428          Placebo  13727   F       N            Y       Y     Y   \n",
       "3   3    2576          Placebo  18460   F       N            N       N     N   \n",
       "4   4     788          Placebo  16658   F       N            Y       N     N   \n",
       "\n",
       "   Bilirubin  Cholesterol  Albumin  Copper  Alk_Phos    SGOT  Tryglicerides  \\\n",
       "0        2.3        316.0     3.35   172.0    1601.0  179.80           63.0   \n",
       "1        0.9        364.0     3.54    63.0    1440.0  134.85           88.0   \n",
       "2        3.3        299.0     3.55   131.0    1029.0  119.35           50.0   \n",
       "3        0.6        256.0     3.50    58.0    1653.0   71.30           96.0   \n",
       "4        1.1        346.0     3.65    63.0    1181.0  125.55           96.0   \n",
       "\n",
       "   Platelets  Prothrombin  Stage Status  \n",
       "0      394.0          9.7    3.0      D  \n",
       "1      361.0         11.0    3.0      C  \n",
       "2      199.0         11.7    4.0      D  \n",
       "3      269.0         10.7    3.0      C  \n",
       "4      298.0         10.6    4.0      C  "
      ]
     },
     "execution_count": 3,
     "metadata": {},
     "output_type": "execute_result"
    }
   ],
   "source": [
    "df.head()"
   ]
  },
  {
   "cell_type": "code",
   "execution_count": 4,
   "id": "9f1ba9ba-603b-41ae-911a-008417edc473",
   "metadata": {
    "colab": {
     "base_uri": "https://localhost:8080/"
    },
    "id": "9f1ba9ba-603b-41ae-911a-008417edc473",
    "outputId": "6d40656c-35ff-49b6-9380-aea6737f8fba"
   },
   "outputs": [
    {
     "name": "stdout",
     "output_type": "stream",
     "text": [
      "<class 'pandas.core.frame.DataFrame'>\n",
      "RangeIndex: 7905 entries, 0 to 7904\n",
      "Data columns (total 20 columns):\n",
      " #   Column         Non-Null Count  Dtype  \n",
      "---  ------         --------------  -----  \n",
      " 0   id             7905 non-null   int64  \n",
      " 1   N_Days         7905 non-null   int64  \n",
      " 2   Drug           7905 non-null   object \n",
      " 3   Age            7905 non-null   int64  \n",
      " 4   Sex            7905 non-null   object \n",
      " 5   Ascites        7905 non-null   object \n",
      " 6   Hepatomegaly   7905 non-null   object \n",
      " 7   Spiders        7905 non-null   object \n",
      " 8   Edema          7905 non-null   object \n",
      " 9   Bilirubin      7905 non-null   float64\n",
      " 10  Cholesterol    7905 non-null   float64\n",
      " 11  Albumin        7905 non-null   float64\n",
      " 12  Copper         7905 non-null   float64\n",
      " 13  Alk_Phos       7905 non-null   float64\n",
      " 14  SGOT           7905 non-null   float64\n",
      " 15  Tryglicerides  7905 non-null   float64\n",
      " 16  Platelets      7905 non-null   float64\n",
      " 17  Prothrombin    7905 non-null   float64\n",
      " 18  Stage          7905 non-null   float64\n",
      " 19  Status         7905 non-null   object \n",
      "dtypes: float64(10), int64(3), object(7)\n",
      "memory usage: 1.2+ MB\n"
     ]
    }
   ],
   "source": [
    "df.info()"
   ]
  },
  {
   "cell_type": "code",
   "execution_count": 5,
   "id": "7c29d40a-33c9-438f-a199-92d3d579d630",
   "metadata": {
    "id": "7c29d40a-33c9-438f-a199-92d3d579d630"
   },
   "outputs": [],
   "source": [
    "# create train and validation sets that are divided equally"
   ]
  },
  {
   "cell_type": "code",
   "execution_count": 6,
   "id": "ef929518-4ca2-4e3a-b62f-eef8dbcd65a2",
   "metadata": {
    "id": "ef929518-4ca2-4e3a-b62f-eef8dbcd65a2"
   },
   "outputs": [],
   "source": [
    "from sklearn.model_selection import train_test_split\n",
    "\n",
    "train, validation = train_test_split(df, stratify=df[\"Status\"], test_size=0.2)"
   ]
  },
  {
   "cell_type": "code",
   "execution_count": 7,
   "id": "948495e8-e13a-4a96-8821-071d751eaf39",
   "metadata": {
    "id": "948495e8-e13a-4a96-8821-071d751eaf39"
   },
   "outputs": [],
   "source": [
    "numeric_values = [\"N_Days\",\"Age\",\"Bilirubin\",\"Cholesterol\",\"Albumin\",\"Copper\",\"Alk_Phos\",\"SGOT\",\"Tryglicerides\",\"Platelets\",\"Prothrombin\",\"Stage\"]"
   ]
  },
  {
   "cell_type": "code",
   "execution_count": 8,
   "id": "e7dbe90e",
   "metadata": {},
   "outputs": [],
   "source": [
    "categorical_values = [\"Drug\",\"Sex\",\"Ascites\",\"Hepatomegaly\",\"Spiders\",\"Edema\"]\n",
    "categorical_bin_values = [\"Drug\",\"Sex\",\"Ascites\",\"Hepatomegaly\",\"Spiders\"]\n",
    "categorical_oh_values = [\"Edema\"]"
   ]
  },
  {
   "cell_type": "code",
   "execution_count": 9,
   "id": "b8915c19-db61-4bca-857a-bafac0b08786",
   "metadata": {
    "id": "b8915c19-db61-4bca-857a-bafac0b08786"
   },
   "outputs": [],
   "source": [
    "features_to_scale = [\"N_Days\",\"Age\",\"Bilirubin\",\"Cholesterol\",\"Albumin\",\"Copper\",\"Alk_Phos\",\"SGOT\",\"Tryglicerides\",\"Platelets\",\"Prothrombin\",\"Stage\"]"
   ]
  },
  {
   "cell_type": "code",
   "execution_count": 10,
   "id": "75ccbfea",
   "metadata": {},
   "outputs": [],
   "source": [
    "from sklearn.pipeline import Pipeline\n",
    "from sklearn.compose import ColumnTransformer\n",
    "from sklearn.preprocessing import MinMaxScaler\n",
    "from sklearn.preprocessing import FunctionTransformer\n",
    "from sklearn.preprocessing import OneHotEncoder\n",
    "\n",
    "# numeric pipeline\n",
    "num_pipeline = Pipeline([('func_transformer', FunctionTransformer(np.log1p)), \n",
    "                         ('minmax_scaler', MinMaxScaler()), ])\n",
    "\n",
    "\n"
   ]
  },
  {
   "cell_type": "code",
   "execution_count": 11,
   "id": "f042e1dd",
   "metadata": {},
   "outputs": [],
   "source": [
    "from sklearn.base import BaseEstimator, TransformerMixin \n",
    "class BinaryEncoder (BaseEstimator, TransformerMixin):\n",
    "    def __init__ (self, features):\n",
    "        self.features = features\n",
    "    def fit(self, X, y=None): \n",
    "        return self # do nothing\n",
    "    def transform(self, X):\n",
    "        for c in self.features:\n",
    "            values = X[c].unique()\n",
    "            X[c].replace(values,(0,1), inplace=True)\n",
    "        return X\n",
    "        \n",
    "        "
   ]
  },
  {
   "cell_type": "code",
   "execution_count": 12,
   "id": "a3b4cd50",
   "metadata": {},
   "outputs": [],
   "source": [
    "# full pipeline (numeric & categorical)\n",
    "full_pipeline = ColumnTransformer([ (\"num\", num_pipeline, numeric_values), \n",
    "                                   (\"bin_cat\", BinaryEncoder(categorical_bin_values), categorical_bin_values), \n",
    "                                   (\"cat\", OneHotEncoder(sparse_output=False), categorical_oh_values), ]) \n",
    "train_prepared = full_pipeline.fit_transform(train)"
   ]
  },
  {
   "cell_type": "code",
   "execution_count": 13,
   "id": "dfc8af3e",
   "metadata": {},
   "outputs": [],
   "source": [
    "# transform with pipeline\n",
    "train_prepared = full_pipeline.fit_transform(train)"
   ]
  },
  {
   "cell_type": "code",
   "execution_count": 14,
   "id": "88918893",
   "metadata": {},
   "outputs": [
    {
     "data": {
      "text/html": [
       "<div>\n",
       "<style scoped>\n",
       "    .dataframe tbody tr th:only-of-type {\n",
       "        vertical-align: middle;\n",
       "    }\n",
       "\n",
       "    .dataframe tbody tr th {\n",
       "        vertical-align: top;\n",
       "    }\n",
       "\n",
       "    .dataframe thead th {\n",
       "        text-align: right;\n",
       "    }\n",
       "</style>\n",
       "<table border=\"1\" class=\"dataframe\">\n",
       "  <thead>\n",
       "    <tr style=\"text-align: right;\">\n",
       "      <th></th>\n",
       "      <th>0</th>\n",
       "      <th>1</th>\n",
       "      <th>2</th>\n",
       "      <th>3</th>\n",
       "      <th>4</th>\n",
       "      <th>5</th>\n",
       "      <th>6</th>\n",
       "      <th>7</th>\n",
       "      <th>8</th>\n",
       "      <th>9</th>\n",
       "      <th>10</th>\n",
       "      <th>11</th>\n",
       "      <th>12</th>\n",
       "      <th>13</th>\n",
       "      <th>14</th>\n",
       "      <th>15</th>\n",
       "      <th>16</th>\n",
       "      <th>17</th>\n",
       "      <th>18</th>\n",
       "      <th>19</th>\n",
       "    </tr>\n",
       "  </thead>\n",
       "  <tbody>\n",
       "    <tr>\n",
       "      <th>0</th>\n",
       "      <td>0.832516</td>\n",
       "      <td>0.728662</td>\n",
       "      <td>0.086399</td>\n",
       "      <td>0.274575</td>\n",
       "      <td>0.649746</td>\n",
       "      <td>0.319996</td>\n",
       "      <td>0.210687</td>\n",
       "      <td>0.268827</td>\n",
       "      <td>0.192121</td>\n",
       "      <td>0.481479</td>\n",
       "      <td>0.271017</td>\n",
       "      <td>0.756471</td>\n",
       "      <td>0.0</td>\n",
       "      <td>0.0</td>\n",
       "      <td>0.0</td>\n",
       "      <td>0.0</td>\n",
       "      <td>0.0</td>\n",
       "      <td>1.0</td>\n",
       "      <td>0.0</td>\n",
       "      <td>0.0</td>\n",
       "    </tr>\n",
       "    <tr>\n",
       "      <th>1</th>\n",
       "      <td>0.748681</td>\n",
       "      <td>0.694359</td>\n",
       "      <td>0.104808</td>\n",
       "      <td>0.406908</td>\n",
       "      <td>0.749853</td>\n",
       "      <td>0.495043</td>\n",
       "      <td>0.270356</td>\n",
       "      <td>0.455126</td>\n",
       "      <td>0.550589</td>\n",
       "      <td>0.626993</td>\n",
       "      <td>0.061105</td>\n",
       "      <td>0.442507</td>\n",
       "      <td>0.0</td>\n",
       "      <td>0.0</td>\n",
       "      <td>0.0</td>\n",
       "      <td>1.0</td>\n",
       "      <td>0.0</td>\n",
       "      <td>1.0</td>\n",
       "      <td>0.0</td>\n",
       "      <td>0.0</td>\n",
       "    </tr>\n",
       "    <tr>\n",
       "      <th>2</th>\n",
       "      <td>0.668037</td>\n",
       "      <td>0.569078</td>\n",
       "      <td>0.361982</td>\n",
       "      <td>0.767488</td>\n",
       "      <td>0.649746</td>\n",
       "      <td>0.799142</td>\n",
       "      <td>0.467605</td>\n",
       "      <td>0.673081</td>\n",
       "      <td>0.573085</td>\n",
       "      <td>0.588793</td>\n",
       "      <td>0.119904</td>\n",
       "      <td>1.000000</td>\n",
       "      <td>0.0</td>\n",
       "      <td>0.0</td>\n",
       "      <td>0.0</td>\n",
       "      <td>1.0</td>\n",
       "      <td>1.0</td>\n",
       "      <td>1.0</td>\n",
       "      <td>0.0</td>\n",
       "      <td>0.0</td>\n",
       "    </tr>\n",
       "    <tr>\n",
       "      <th>3</th>\n",
       "      <td>0.781341</td>\n",
       "      <td>0.164120</td>\n",
       "      <td>0.399916</td>\n",
       "      <td>0.406908</td>\n",
       "      <td>0.597161</td>\n",
       "      <td>0.517531</td>\n",
       "      <td>0.559208</td>\n",
       "      <td>0.426099</td>\n",
       "      <td>0.528796</td>\n",
       "      <td>0.775763</td>\n",
       "      <td>0.030852</td>\n",
       "      <td>0.756471</td>\n",
       "      <td>1.0</td>\n",
       "      <td>0.0</td>\n",
       "      <td>0.0</td>\n",
       "      <td>1.0</td>\n",
       "      <td>0.0</td>\n",
       "      <td>1.0</td>\n",
       "      <td>0.0</td>\n",
       "      <td>0.0</td>\n",
       "    </tr>\n",
       "    <tr>\n",
       "      <th>4</th>\n",
       "      <td>0.536682</td>\n",
       "      <td>0.691636</td>\n",
       "      <td>0.169438</td>\n",
       "      <td>0.306966</td>\n",
       "      <td>0.625428</td>\n",
       "      <td>0.630256</td>\n",
       "      <td>0.354664</td>\n",
       "      <td>0.362585</td>\n",
       "      <td>0.346972</td>\n",
       "      <td>0.566335</td>\n",
       "      <td>0.322525</td>\n",
       "      <td>1.000000</td>\n",
       "      <td>0.0</td>\n",
       "      <td>1.0</td>\n",
       "      <td>0.0</td>\n",
       "      <td>1.0</td>\n",
       "      <td>0.0</td>\n",
       "      <td>1.0</td>\n",
       "      <td>0.0</td>\n",
       "      <td>0.0</td>\n",
       "    </tr>\n",
       "  </tbody>\n",
       "</table>\n",
       "</div>"
      ],
      "text/plain": [
       "         0         1         2         3         4         5         6   \\\n",
       "0  0.832516  0.728662  0.086399  0.274575  0.649746  0.319996  0.210687   \n",
       "1  0.748681  0.694359  0.104808  0.406908  0.749853  0.495043  0.270356   \n",
       "2  0.668037  0.569078  0.361982  0.767488  0.649746  0.799142  0.467605   \n",
       "3  0.781341  0.164120  0.399916  0.406908  0.597161  0.517531  0.559208   \n",
       "4  0.536682  0.691636  0.169438  0.306966  0.625428  0.630256  0.354664   \n",
       "\n",
       "         7         8         9         10        11   12   13   14   15   16  \\\n",
       "0  0.268827  0.192121  0.481479  0.271017  0.756471  0.0  0.0  0.0  0.0  0.0   \n",
       "1  0.455126  0.550589  0.626993  0.061105  0.442507  0.0  0.0  0.0  1.0  0.0   \n",
       "2  0.673081  0.573085  0.588793  0.119904  1.000000  0.0  0.0  0.0  1.0  1.0   \n",
       "3  0.426099  0.528796  0.775763  0.030852  0.756471  1.0  0.0  0.0  1.0  0.0   \n",
       "4  0.362585  0.346972  0.566335  0.322525  1.000000  0.0  1.0  0.0  1.0  0.0   \n",
       "\n",
       "    17   18   19  \n",
       "0  1.0  0.0  0.0  \n",
       "1  1.0  0.0  0.0  \n",
       "2  1.0  0.0  0.0  \n",
       "3  1.0  0.0  0.0  \n",
       "4  1.0  0.0  0.0  "
      ]
     },
     "execution_count": 14,
     "metadata": {},
     "output_type": "execute_result"
    }
   ],
   "source": [
    "pd.DataFrame(train_prepared).head()"
   ]
  },
  {
   "cell_type": "code",
   "execution_count": 15,
   "id": "f001a8eb",
   "metadata": {},
   "outputs": [],
   "source": [
    "from imblearn.over_sampling import SMOTE\n",
    "\n",
    "# Initialize SMOTE\n",
    "smote = SMOTE(random_state=42)\n",
    "\n",
    "# Apply SMOTE to the training data\n",
    "X_train_smote, y_train_smote = smote.fit_resample(train_prepared, train[\"Status\"])\n"
   ]
  },
  {
   "cell_type": "code",
   "execution_count": 18,
   "id": "d84c5ac1",
   "metadata": {},
   "outputs": [],
   "source": [
    "# Train Model\n",
    "from xgboost import XGBClassifier\n",
    "    # Label Encoding\n",
    "from sklearn.preprocessing import LabelEncoder\n",
    "label_encoder = LabelEncoder()\n",
    "labels_en = label_encoder.fit_transform(y_train_smote)\n",
    "model_xgb = XGBClassifier(random_state=42).fit(X_train_smote, labels_en)\n"
   ]
  },
  {
   "cell_type": "code",
   "execution_count": 19,
   "id": "90a70863",
   "metadata": {},
   "outputs": [
    {
     "name": "stdout",
     "output_type": "stream",
     "text": [
      "[0.36374398 0.30991709 0.28698351 0.24197018 0.27191795]\n",
      "0.2949065412558814\n"
     ]
    }
   ],
   "source": [
    "# Cross Validation\n",
    "from sklearn.model_selection import KFold, cross_val_score\n",
    "xgb_scores = cross_val_score(model_xgb, X_train_smote, labels_en, scoring=\"neg_log_loss\", cv=5)\n",
    "print(-xgb_scores)\n",
    "print(-xgb_scores.mean())"
   ]
  },
  {
   "cell_type": "code",
   "execution_count": 45,
   "id": "99b71e4e",
   "metadata": {},
   "outputs": [],
   "source": [
    "# Hyperparameter tuning\n",
    "from sklearn.model_selection import GridSearchCV\n",
    "\n",
    "# Declare a parameter grid for GridSearch\n",
    "param_grid = {\n",
    "    'n_estimators': [100, 150, 200],\n",
    "    'max_depth': [3,5,7],\n",
    "    'subsample': [0.6, 0.8]\n",
    "}\n",
    "\n",
    "# GridSearchCV on RF+SMOTE classifier model (with SMOTE)\n",
    "grid_search = GridSearchCV(XGBClassifier(random_state=42), param_grid, cv=5, scoring='precision', return_train_score=True)\n",
    "grid_search.fit(X_train_smote, labels_en)\n",
    "\n",
    "# Save best model from grid search\n",
    "best_xgb = grid_search.best_estimator_\n",
    "\n"
   ]
  },
  {
   "cell_type": "code",
   "execution_count": 46,
   "id": "419df0ff",
   "metadata": {},
   "outputs": [],
   "source": [
    "# prepare validation data\n",
    "val_prepared = full_pipeline.fit_transform(validation)\n",
    "#     prepare labels\n",
    "val_labels_en = label_encoder.fit_transform(validation[\"Status\"])"
   ]
  },
  {
   "cell_type": "code",
   "execution_count": 47,
   "id": "0a721891",
   "metadata": {},
   "outputs": [],
   "source": [
    "# Predict on the validation set with the best model\n",
    "y_val_pred_best_xgb = best_xgb.predict_proba(val_prepared)"
   ]
  },
  {
   "cell_type": "code",
   "execution_count": 48,
   "id": "dab6f2ab",
   "metadata": {},
   "outputs": [
    {
     "name": "stdout",
     "output_type": "stream",
     "text": [
      "0.5894552609693242\n"
     ]
    }
   ],
   "source": [
    "from sklearn.metrics import log_loss\n",
    "\n",
    "best_score = log_loss(validation[\"Status\"], y_val_pred_best_xgb)\n",
    "print(best_score)"
   ]
  },
  {
   "cell_type": "code",
   "execution_count": 31,
   "id": "4517fb80",
   "metadata": {},
   "outputs": [
    {
     "data": {
      "text/plain": [
       "0.6071666790845676"
      ]
     },
     "execution_count": 31,
     "metadata": {},
     "output_type": "execute_result"
    }
   ],
   "source": [
    "log_loss(validation[\"Status\"], model_xgb.predict_proba(val_prepared))\n"
   ]
  },
  {
   "cell_type": "code",
   "execution_count": null,
   "id": "8a1d9d5f",
   "metadata": {},
   "outputs": [],
   "source": [
    "# Label Encoding\n",
    "from sklearn.preprocessing import LabelEncoder\n",
    "label_encoder = LabelEncoder()\n",
    "labels_en = label_encoder.fit_transform(train[\"Status\"])\n",
    "# k-fold (e.g. 5) validation, with log loss, scores need to be un-negated back\n",
    "# scores = cross_val_score(model, train_prepared, labels_en, scoring=\"neg_log_loss\", cv=5)\n"
   ]
  },
  {
   "cell_type": "code",
   "execution_count": null,
   "id": "be853676",
   "metadata": {},
   "outputs": [],
   "source": []
  }
 ],
 "metadata": {
  "colab": {
   "provenance": []
  },
  "kernelspec": {
   "display_name": "Python 3 (ipykernel)",
   "language": "python",
   "name": "python3"
  },
  "language_info": {
   "codemirror_mode": {
    "name": "ipython",
    "version": 3
   },
   "file_extension": ".py",
   "mimetype": "text/x-python",
   "name": "python",
   "nbconvert_exporter": "python",
   "pygments_lexer": "ipython3",
   "version": "3.9.1"
  }
 },
 "nbformat": 4,
 "nbformat_minor": 5
}
